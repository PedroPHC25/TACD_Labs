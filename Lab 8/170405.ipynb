{
 "cells": [
  {
   "cell_type": "code",
   "execution_count": 1,
   "id": "425ac6e9-8919-4c06-be1c-782241f835f6",
   "metadata": {
    "tags": []
   },
   "outputs": [],
   "source": [
    "import numpy as np\n",
    "import pandas as pd\n",
    "import matplotlib.pyplot as plt"
   ]
  },
  {
   "cell_type": "markdown",
   "id": "fc6f6b7d-1fdf-43a4-bd7c-03d90114d3fb",
   "metadata": {},
   "source": [
    "# Lab 9 - Multi-layer Perceptron Forward Pass & Backpropagation"
   ]
  },
  {
   "cell_type": "markdown",
   "id": "b99c1b83-fb9a-4321-882b-fd0c74d2ab1b",
   "metadata": {},
   "source": [
    "## Part I\n",
    "For this exercise you will implement a simple 2-layer perceptron with the forward pass and the backpropagation to learn the weights\n",
    "\n",
    "For the first part you'll build and train a 2-layer neural network that predicts the prices of houses, using the usual Boston housing dataset."
   ]
  },
  {
   "cell_type": "code",
   "execution_count": 2,
   "id": "7804bef6-2bd6-4d05-bc4e-f9d8325f12ec",
   "metadata": {
    "tags": []
   },
   "outputs": [],
   "source": [
    "boston = pd.read_csv('BostonHousing.txt')"
   ]
  },
  {
   "cell_type": "markdown",
   "id": "d6bdfc73-7702-4a3c-af9f-6fb897ec643c",
   "metadata": {
    "tags": []
   },
   "source": [
    "As usual, consider the MEDV as your target variable. \n",
    "* Split the data into training, validation and testing (70,15,15)%\n",
    "* Experiment with different number of neurons per layer for your network, using the validation set"
   ]
  },
  {
   "cell_type": "code",
   "execution_count": 3,
   "id": "5df5bfc8-26c0-4d48-9c3c-05a9e404e1d4",
   "metadata": {
    "tags": []
   },
   "outputs": [],
   "source": [
    "# your code goes here\n",
    "\n",
    "from sklearn.model_selection import train_test_split\n",
    "\n",
    "# Separando os dados dos targets\n",
    "y = boston[\"medv\"]\n",
    "X = boston.drop(\"medv\", axis = 1)\n",
    "\n",
    "# Separando os dados\n",
    "X_train_and_val, X_test, y_train_and_val, y_test = train_test_split(X, y, test_size = 0.15)\n",
    "X_train, X_val, y_train, y_val = train_test_split(X_train_and_val, y_train_and_val, test_size = 3/17)\n",
    "\n",
    "# Convertendo para arrays\n",
    "X_train_and_val, X_test, y_train_and_val, y_test = X_train_and_val.to_numpy(), X_test.to_numpy(), y_train_and_val.to_numpy(), y_test.to_numpy()\n",
    "X_train, X_val, y_train, y_val = X_train.to_numpy(), X_val.to_numpy(), y_train.to_numpy(), y_val.to_numpy()"
   ]
  },
  {
   "cell_type": "code",
   "execution_count": 4,
   "id": "dcc26211-91c1-47f9-8779-eb723b0c209e",
   "metadata": {},
   "outputs": [],
   "source": [
    "# your code goes here\n",
    "\n",
    "# Função da ativação sigmoidal\n",
    "def sigmoid_activation(z):\n",
    "    # Calculando o valor da sigmoide\n",
    "    return 1/(1 + np.exp(-z))\n",
    "\n",
    "# Função da derivada da sigmoide\n",
    "def sigmoid_derivative(z):\n",
    "    # Calculando o valor da derivada\n",
    "    return sigmoid_activation(z)*(1-sigmoid_activation(z))\n",
    "\n",
    "# Função para calcular o RMSE\n",
    "def rmse(y_true, y_pred):\n",
    "    return np.sqrt(((y_pred - y_true)**2).mean())\n",
    "\n",
    "# Função do forward pass para regressão\n",
    "def regression_forward_pass(X, W_hidden, W_output, activation):\n",
    "    # Adicionando a coluna do bias\n",
    "    if np.ndim(X) == 1:\n",
    "        X = np.insert(X, 0, 1)\n",
    "    else:\n",
    "        X = np.insert(X, 0, 1, axis = 1)\n",
    "\n",
    "    # Calculando a camada oculta\n",
    "    hidden_layer = X @ W_hidden\n",
    "    activated_hidden_layer = activation(hidden_layer)\n",
    "\n",
    "    # Inserindo novamente a camada do bias\n",
    "    if np.ndim(activated_hidden_layer) == 1:\n",
    "        activated_hidden_layer_bias = np.insert(activated_hidden_layer, 0, 1)\n",
    "    else:\n",
    "        activated_hidden_layer_bias = np.insert(activated_hidden_layer, 0, 1, axis = 1)\n",
    "\n",
    "    # Calculando a camada de saída\n",
    "    y_pred = activated_hidden_layer_bias @ W_output\n",
    "\n",
    "    nodes_values = [hidden_layer, activated_hidden_layer_bias, y_pred]\n",
    "\n",
    "    return nodes_values\n",
    "\n",
    "# Função do backpropagation\n",
    "def regression_backpropagation(x_input, y_true, y_pred, hidden_layer, activated_hidden_layer_bias, W_output, activation_derivative):\n",
    "    # Adicionando a coluna do bias ao dado\n",
    "    x_input = np.insert(x_input, 0, 1)\n",
    "\n",
    "    # Calculando os gradientes dos pesos da última camada\n",
    "    W_output_gradient = (y_pred - y_true)*activated_hidden_layer_bias\n",
    "\n",
    "    # Calculando os gradientes dos pesos da camada oculta\n",
    "    delta = (y_pred - y_true).reshape((1, -1))\n",
    "    W_hidden_gradient = x_input.reshape((-1, 1)) @ (activation_derivative(hidden_layer).reshape((1, -1)) * (delta @ W_output[1:, :].T))\n",
    "    \n",
    "    return [W_hidden_gradient, W_output_gradient]\n",
    "\n",
    "# Função de atualização dos pesos\n",
    "def update_weights(W_hidden, W_output, W_hidden_gradient, W_output_gradient, lr):\n",
    "    # Ajustando os shapes das matrizes\n",
    "    W_hidden_gradient = W_hidden_gradient.reshape(W_hidden.shape)\n",
    "    W_output_gradient = W_output_gradient.reshape(W_output.shape)\n",
    "    # Atualizando os pesos\n",
    "    W_hidden -= lr*W_hidden_gradient\n",
    "    W_output -= lr*W_output_gradient\n",
    "\n",
    "    return W_hidden, W_output"
   ]
  },
  {
   "cell_type": "code",
   "execution_count": 5,
   "id": "d20e8d8a",
   "metadata": {},
   "outputs": [],
   "source": [
    "# ENCONTRANDO O MELHOR NÚMERO DE NÓS POR MEIO DA VALIDAÇÃO\n",
    "\n",
    "# Listas com os erros no conjunto de validação\n",
    "val_errors = []\n",
    "# Número de dados\n",
    "n_of_datapoints = X_train.shape[0]\n",
    "# Número máximo de nós\n",
    "max_nodes = 13\n",
    "\n",
    "# Juntando as matrizes de dados e rótulos para embaralhar corretamente\n",
    "data_train = np.hstack((X_train, y_train.reshape((-1, 1))))\n",
    "\n",
    "# Para cada número de nós...\n",
    "for n_of_nodes in range(1, max_nodes + 1):\n",
    "    # Inicializa aleatoriamente as matrizes de pesos\n",
    "    W_hidden = np.random.normal(0, 0.001, (X_train.shape[1] + 1, n_of_nodes))\n",
    "    W_output = np.random.normal(0, 0.001, (n_of_nodes + 1, 1))\n",
    "\n",
    "    # Para cada época...\n",
    "    for epoch in range(10):\n",
    "        # Embaralha os dados e separa de volta\n",
    "        np.random.shuffle(data_train)\n",
    "        shuffled_X_train = data_train[:, :-1]\n",
    "        shuffled_y_train = data_train[:, -1]\n",
    "\n",
    "        # Para cada datapoint...\n",
    "        for datapoint in range(n_of_datapoints):\n",
    "            # Avança na rede, calcula os gradientes e atualiza os pesos\n",
    "            hidden_layer, activated_hidden_layer_bias, y_pred = regression_forward_pass(shuffled_X_train[datapoint], W_hidden, W_output, sigmoid_activation)\n",
    "            W_hidden_gradient, W_output_gradient = regression_backpropagation(shuffled_X_train[datapoint], shuffled_y_train[datapoint], y_pred, hidden_layer, activated_hidden_layer_bias, W_output, sigmoid_derivative)\n",
    "            W_hidden, W_output = update_weights(W_hidden, W_output, W_hidden_gradient, W_output_gradient, 0.0001)\n",
    "\n",
    "    # Calcula o erro no conjunto de validação\n",
    "    y_val_pred = regression_forward_pass(X_val, W_hidden, W_output, sigmoid_activation)[2]\n",
    "    current_error = rmse(y_val, y_val_pred)\n",
    "    val_errors.append(current_error)"
   ]
  },
  {
   "cell_type": "code",
   "execution_count": 6,
   "id": "00606f58",
   "metadata": {},
   "outputs": [
    {
     "data": {
      "image/png": "[encoded data removed]",
      "text/plain": [
       "<Figure size 1200x500 with 1 Axes>"
      ]
     },
     "metadata": {},
     "output_type": "display_data"
    }
   ],
   "source": [
    "# Plotando o gráfico do erro por quantidade de nós\n",
    "plt.figure(figsize = (12, 5))\n",
    "plt.scatter(np.linspace(1, 13, 13), val_errors)\n",
    "plt.title(\"Error per number of nodes\")\n",
    "plt.xlabel(\"N° of nodes\")\n",
    "plt.ylabel(\"Error\")\n",
    "plt.show()"
   ]
  },
  {
   "cell_type": "code",
   "execution_count": 7,
   "id": "f3226606",
   "metadata": {},
   "outputs": [
    {
     "name": "stdout",
     "output_type": "stream",
     "text": [
      "Best number of nodes:  9\n"
     ]
    }
   ],
   "source": [
    "# Melhor número de nós\n",
    "n_of_nodes = np.argmin(val_errors) + 1\n",
    "print(\"Best number of nodes: \", n_of_nodes)"
   ]
  },
  {
   "cell_type": "code",
   "execution_count": 8,
   "id": "dd16025c",
   "metadata": {},
   "outputs": [],
   "source": [
    "# TREINANDO O MODELO PARA O NÚMERO DE NÓS SELECIONADO\n",
    "\n",
    "# Lista com os erros ao longo do aprendizado\n",
    "errors = []\n",
    "# Número de dados\n",
    "n_of_datapoints = X_train_and_val.shape[0]\n",
    "\n",
    "# Juntando os dados e os rótulos dos conjuntos de treino e validação para embaralhá-los\n",
    "data_train_and_val = np.hstack((X_train_and_val, y_train_and_val.reshape((-1, 1))))\n",
    "\n",
    "# Inicializando as matrizes de pesos aleatoriamente\n",
    "W_hidden = np.random.normal(0, 0.01, (X_train.shape[1] + 1, n_of_nodes))\n",
    "W_output = np.random.normal(0, 0.01, (n_of_nodes + 1, 1))\n",
    "\n",
    "# Em cada época...\n",
    "for epoch in range(50):\n",
    "    # Embaralha os dados\n",
    "    np.random.shuffle(data_train_and_val)\n",
    "    # Separa de volta em dados e rótulos\n",
    "    shuffled_X_train_and_val = data_train_and_val[:, :-1]\n",
    "    shuffled_y_train_and_val = data_train_and_val[:, -1]\n",
    "\n",
    "    # Para cada dado...\n",
    "    for datapoint in range(n_of_datapoints):\n",
    "        # Avança na rede, calcula os gradientes e atualiza os pesos\n",
    "        hidden_layer, activated_hidden_layer_bias, y_pred = regression_forward_pass(shuffled_X_train_and_val[datapoint], W_hidden, W_output, sigmoid_activation)\n",
    "        W_hidden_gradient, W_output_gradient = regression_backpropagation(shuffled_X_train_and_val[datapoint], shuffled_y_train_and_val[datapoint], y_pred, hidden_layer, activated_hidden_layer_bias, W_output, sigmoid_derivative)\n",
    "        W_hidden, W_output = update_weights(W_hidden, W_output, W_hidden_gradient, W_output_gradient, 0.0001)\n",
    "\n",
    "    # Calcula o erro e salva na lista\n",
    "    y_train_and_val_pred = regression_forward_pass(X_train_and_val, W_hidden, W_output, sigmoid_activation)[2]\n",
    "    current_error = rmse(y_train_and_val, y_train_and_val_pred)\n",
    "    errors.append(current_error)"
   ]
  },
  {
   "cell_type": "code",
   "execution_count": 9,
   "id": "6b6c688b",
   "metadata": {},
   "outputs": [
    {
     "data": {
      "image/png": "[encoded data removed]",
      "text/plain": [
       "<Figure size 1200x500 with 1 Axes>"
      ]
     },
     "metadata": {},
     "output_type": "display_data"
    }
   ],
   "source": [
    "# Plotando o gráfico do erro por época\n",
    "plt.figure(figsize = (12, 5))\n",
    "plt.plot(np.linspace(1, 50, 50), errors)\n",
    "plt.title(\"Error per epoch\")\n",
    "plt.xlabel(\"Epoch\")\n",
    "plt.ylabel(\"Error\")\n",
    "plt.show()"
   ]
  },
  {
   "cell_type": "code",
   "execution_count": 10,
   "id": "ba838112",
   "metadata": {},
   "outputs": [
    {
     "name": "stdout",
     "output_type": "stream",
     "text": [
      "Model test error:  9.71068037337494\n"
     ]
    }
   ],
   "source": [
    "# Avaliando o desempenho no conjunto de teste\n",
    "y_test_pred = regression_forward_pass(X_test, W_hidden, W_output, sigmoid_activation)[2]\n",
    "test_error = rmse(y_test, y_test_pred)\n",
    "print(\"Model test error: \", test_error)"
   ]
  },
  {
   "cell_type": "markdown",
   "id": "fa6650ab-79e5-4636-a4c9-84b977c48541",
   "metadata": {},
   "source": [
    "## Part II \n",
    "\n",
    "For this exercise you will build and train a 2-layer neural network that predicts the exact digit from a hand-written image, using the MNIST dataset. \n",
    "For this exercise, add weight decay to your network."
   ]
  },
  {
   "cell_type": "code",
   "execution_count": 11,
   "id": "3bfe2473-16e8-4dce-9e5b-7d5ce1154200",
   "metadata": {
    "tags": []
   },
   "outputs": [],
   "source": [
    "from sklearn.datasets import load_digits"
   ]
  },
  {
   "cell_type": "code",
   "execution_count": 12,
   "id": "4f8f04ee-c8e6-4531-9ad4-b0e530e1f92d",
   "metadata": {
    "tags": []
   },
   "outputs": [],
   "source": [
    "digits = load_digits()"
   ]
  },
  {
   "cell_type": "code",
   "execution_count": 13,
   "id": "6c49e3cd-e16a-4847-ac73-b9628f3f159a",
   "metadata": {
    "tags": []
   },
   "outputs": [],
   "source": [
    "X = digits.data\n",
    "y = digits.target"
   ]
  },
  {
   "cell_type": "code",
   "execution_count": 14,
   "id": "172b3419-d470-433f-87f9-4df67e4761e8",
   "metadata": {
    "tags": []
   },
   "outputs": [
    {
     "data": {
      "text/plain": [
       "(1797, 64)"
      ]
     },
     "execution_count": 14,
     "metadata": {},
     "output_type": "execute_result"
    }
   ],
   "source": [
    "X.shape"
   ]
  },
  {
   "cell_type": "markdown",
   "id": "ebdaf177-1cda-4c04-8d12-090678310602",
   "metadata": {},
   "source": [
    "Again, you will split the data into training, validation and testing."
   ]
  },
  {
   "cell_type": "code",
   "execution_count": 15,
   "id": "8519363c-f7e0-43a8-ba4e-a33ab9d5b96e",
   "metadata": {},
   "outputs": [],
   "source": [
    "# your code goes here:\n",
    "\n",
    "# Separando os dados\n",
    "X_train_and_val, X_test, y_train_and_val, y_test = train_test_split(X, y, test_size = 0.15)\n",
    "X_train, X_val, y_train, y_val = train_test_split(X_train_and_val, y_train_and_val, test_size = 3/17)"
   ]
  },
  {
   "cell_type": "code",
   "execution_count": 16,
   "id": "015f701c-f816-4208-8cdc-4ba32f03f08d",
   "metadata": {},
   "outputs": [],
   "source": [
    "# your code goes here:\n",
    "\n",
    "# Função da ativação softmax\n",
    "def softmax_activation(z):\n",
    "    # Calculando as somas dos scores de cada datapoint\n",
    "    if np.ndim(z) == 1:\n",
    "        column_sums = np.sum(np.exp(z))\n",
    "    else:\n",
    "        column_sums = np.sum(np.exp(z), axis = 1).reshape(-1, 1)\n",
    "    \n",
    "    # Retornando os scores normalizados\n",
    "    return np.exp(z)/column_sums\n",
    "\n",
    "# Função para calcular o erro do algoritmo de classificação multiclasse com regularização\n",
    "def cross_entropy_loss(Y_pred, y_true, W_hidden, W_output, lbda):\n",
    "    # Vetor para armazenar as probabilidades previstas para as classes corretas\n",
    "    correct_class_predictions = np.zeros(y_true.size)\n",
    "\n",
    "    # Para cada dado...\n",
    "    for datapoint in range(y_true.size):\n",
    "        # Salva no vetor a probabilidade prevista para a sua classe correta\n",
    "        correct_class_predictions[datapoint] = Y_pred[datapoint, y_true[datapoint]]\n",
    "\n",
    "    # Calcula o erro da entropia cruzada multiclasse com o weight decay\n",
    "    return -np.sum(np.log(correct_class_predictions)) + (lbda/2)*(np.sum(W_hidden**2) + np.sum(W_output**2))\n",
    "\n",
    "# Função do forward pass para classificação multiclasse\n",
    "def mc_classification_forward_pass(X, W_hidden, W_output, hidden_activation, output_activation):\n",
    "    # Adicionando a coluna do bias\n",
    "    if np.ndim(X) == 1:\n",
    "        X = np.insert(X, 0, 1)\n",
    "    else:\n",
    "        X = np.insert(X, 0, 1, axis = 1)\n",
    "\n",
    "    # Calculando a camada oculta\n",
    "    hidden_layer = X @ W_hidden\n",
    "    activated_hidden_layer = hidden_activation(hidden_layer)\n",
    "\n",
    "    # Inserindo novamente a camada do bias\n",
    "    if np.ndim(activated_hidden_layer) == 1:\n",
    "        activated_hidden_layer_bias = np.insert(activated_hidden_layer, 0, 1)\n",
    "    else:\n",
    "        activated_hidden_layer_bias = np.insert(activated_hidden_layer, 0, 1, axis = 1)\n",
    "\n",
    "    # Calculando a camada de saída\n",
    "    output_layer = activated_hidden_layer_bias @ W_output\n",
    "    y_pred = output_activation(output_layer)\n",
    "\n",
    "    nodes_values = [hidden_layer, activated_hidden_layer_bias, output_layer, y_pred]\n",
    "\n",
    "    return nodes_values\n",
    "\n",
    "# Função do backpropagation para classificação multiclasse\n",
    "def mc_classification_backpropagation(x_input, y_true, output_layer, y_pred, hidden_layer, activated_hidden_layer_bias, W_output, activation_derivative, lbda):\n",
    "    # Adicionando a coluna do bias ao dado\n",
    "    x_input = np.insert(x_input, 0, 1)\n",
    "\n",
    "    # Calculando os gradientes dos pesos da última camada\n",
    "    W_output_gradient = activated_hidden_layer_bias.reshape((-1, 1)) @ (output_layer - y_true).reshape((1, -1)) + lbda*W_output\n",
    "\n",
    "    # Calculando os gradientes dos pesos da camada oculta\n",
    "    delta = (y_pred - y_true).reshape((1, -1))\n",
    "    W_hidden_gradient = x_input.reshape((-1, 1)) @ (activation_derivative(hidden_layer).reshape((1, -1)) * (delta @ W_output[1:, :].T)) + lbda*W_hidden\n",
    "\n",
    "    return [W_hidden_gradient, W_output_gradient]"
   ]
  },
  {
   "cell_type": "code",
   "execution_count": 24,
   "id": "a07f2d51",
   "metadata": {},
   "outputs": [],
   "source": [
    "# ENCONTRANDO O MELHOR NÚMERO DE NÓS POR MEIO DA VALIDAÇÃO\n",
    "\n",
    "# Listas com os erros no conjunto de validação\n",
    "val_errors = []\n",
    "# Número de dados\n",
    "n_of_datapoints = X_train.shape[0]\n",
    "\n",
    "# Criando a matriz de alvo do treino\n",
    "Y_train = np.zeros((n_of_datapoints, 10))\n",
    "for datapoint in range(n_of_datapoints):\n",
    "    Y_train[datapoint, int(y_train[datapoint])] = 1\n",
    "\n",
    "# Número máximo de nós\n",
    "max_nodes = 64\n",
    "\n",
    "# Juntando as matrizes de dados e rótulos para embaralhar corretamente\n",
    "data_train = np.hstack((X_train, Y_train))\n",
    "\n",
    "# Para cada número de nós...\n",
    "for n_of_nodes in range(1, max_nodes + 1):\n",
    "    # Inicializa aleatoriamente as matrizes de pesos\n",
    "    W_hidden = np.random.normal(0, 0.001, (X_train.shape[1] + 1, n_of_nodes))\n",
    "    W_output = np.random.normal(0, 0.001, (n_of_nodes + 1, 10))\n",
    "\n",
    "    # Para cada época...\n",
    "    for epoch in range(10):\n",
    "        # Embaralha os dados e separa de volta\n",
    "        np.random.shuffle(data_train)\n",
    "        shuffled_X_train = data_train[:, :-10]\n",
    "        shuffled_Y_train = data_train[:, -10:]\n",
    "\n",
    "        # Para cada datapoint...\n",
    "        for datapoint in range(n_of_datapoints):\n",
    "            # Avança na rede, calcula os gradientes e atualiza os pesos\n",
    "            hidden_layer, activated_hidden_layer_bias, output_layer, y_pred = mc_classification_forward_pass(shuffled_X_train[datapoint], W_hidden, W_output, sigmoid_activation, softmax_activation)\n",
    "            W_hidden_gradient, W_output_gradient = mc_classification_backpropagation(shuffled_X_train[datapoint], shuffled_Y_train[datapoint], output_layer, y_pred, hidden_layer, activated_hidden_layer_bias, W_output, sigmoid_derivative, 0.01)\n",
    "            W_hidden, W_output = update_weights(W_hidden, W_output, W_hidden_gradient, W_output_gradient, 0.01)\n",
    "\n",
    "    # Calcula o erro no conjunto de validação\n",
    "    y_val_pred = mc_classification_forward_pass(X_val, W_hidden, W_output, sigmoid_activation, softmax_activation)[3]\n",
    "    current_error = cross_entropy_loss(y_val_pred, y_val, W_hidden, W_output, 0.01)\n",
    "    val_errors.append(current_error)"
   ]
  },
  {
   "cell_type": "code",
   "execution_count": 25,
   "id": "09f711c0",
   "metadata": {},
   "outputs": [
    {
     "data": {
      "image/png": "[encoded data removed]",
      "text/plain": [
       "<Figure size 1200x500 with 1 Axes>"
      ]
     },
     "metadata": {},
     "output_type": "display_data"
    }
   ],
   "source": [
    "# Plotando o gráfico do erro por quantidade de nós\n",
    "plt.figure(figsize = (12, 5))\n",
    "plt.scatter(np.linspace(1, 64, 64), val_errors)\n",
    "plt.title(\"Error per number of nodes\")\n",
    "plt.xlabel(\"N° of nodes\")\n",
    "plt.ylabel(\"Error\")\n",
    "plt.show()"
   ]
  },
  {
   "cell_type": "code",
   "execution_count": 26,
   "id": "a21b3c02",
   "metadata": {},
   "outputs": [
    {
     "name": "stdout",
     "output_type": "stream",
     "text": [
      "Best number of nodes:  56\n"
     ]
    }
   ],
   "source": [
    "# Número de nós\n",
    "n_of_nodes = np.argmin(val_errors) + 1\n",
    "print(\"Best number of nodes: \", n_of_nodes)"
   ]
  },
  {
   "cell_type": "code",
   "execution_count": 27,
   "id": "a1a9f9cd",
   "metadata": {},
   "outputs": [],
   "source": [
    "# TREINANDO O MODELO PARA O NÚMERO DE NÓS SELECIONADO\n",
    "\n",
    "# Lista com os erros ao longo do aprendizado\n",
    "errors = []\n",
    "# Número de dados\n",
    "n_of_datapoints = X_train_and_val.shape[0]\n",
    "\n",
    "# Criando a matriz de alvo de treino e validação\n",
    "Y_train_and_val = np.zeros((n_of_datapoints, 10))\n",
    "for datapoint in range(n_of_datapoints):\n",
    "    Y_train_and_val[datapoint, int(y_train_and_val[datapoint])] = 1\n",
    "\n",
    "# Juntando os dados e os rótulos dos conjuntos de treino e validação para embaralhá-los\n",
    "data_train_and_val = np.hstack((X_train_and_val, Y_train_and_val))\n",
    "\n",
    "# Inicializando as matrizes de pesos aleatoriamente\n",
    "W_hidden = np.random.normal(0, 0.1, (X_train_and_val.shape[1] + 1, n_of_nodes))\n",
    "W_output = np.random.normal(0, 0.1, (n_of_nodes + 1, 10))\n",
    "\n",
    "# Para cada época...\n",
    "for epoch in range(50):\n",
    "    # Embaralha os dados e separa de volta\n",
    "    np.random.shuffle(data_train_and_val)\n",
    "    shuffled_X_train_and_val = data_train_and_val[:, :-10]\n",
    "    shuffled_y_train_and_val = data_train_and_val[:, -10:]\n",
    "\n",
    "    # Para cada datapoint...\n",
    "    for datapoint in range(n_of_datapoints):\n",
    "        # Avança na rede, calcula os gradientes e atualiza os pesos\n",
    "        hidden_layer, activated_hidden_layer_bias, output_layer, y_pred = mc_classification_forward_pass(shuffled_X_train_and_val[datapoint], W_hidden, W_output, sigmoid_activation, softmax_activation)\n",
    "        W_hidden_gradient, W_output_gradient = mc_classification_backpropagation(shuffled_X_train_and_val[datapoint], shuffled_y_train_and_val[datapoint], output_layer, y_pred, hidden_layer, activated_hidden_layer_bias, W_output, sigmoid_derivative, 0.01)\n",
    "        W_hidden, W_output = update_weights(W_hidden, W_output, W_hidden_gradient, W_output_gradient, 0.01)\n",
    "\n",
    "    # Calcula o erro no conjunto de treino\n",
    "    y_test_pred = mc_classification_forward_pass(X_test, W_hidden, W_output, sigmoid_activation, softmax_activation)[3]\n",
    "    current_error = cross_entropy_loss(y_test_pred, y_test, W_hidden, W_output, 0.01)\n",
    "    errors.append(current_error)"
   ]
  },
  {
   "cell_type": "code",
   "execution_count": 28,
   "id": "69b8f0d7",
   "metadata": {},
   "outputs": [
    {
     "data": {
      "image/png": "[encoded data removed]",
      "text/plain": [
       "<Figure size 1200x500 with 1 Axes>"
      ]
     },
     "metadata": {},
     "output_type": "display_data"
    }
   ],
   "source": [
    "# Plotando o gráfico do erro por época\n",
    "plt.figure(figsize = (12, 5))\n",
    "plt.plot(np.linspace(1, 50, 50), errors)\n",
    "plt.title(\"Error per epoch\")\n",
    "plt.xlabel(\"Epoch\")\n",
    "plt.ylabel(\"Error\")\n",
    "plt.show()"
   ]
  },
  {
   "cell_type": "code",
   "execution_count": 29,
   "id": "1d6e7c78",
   "metadata": {},
   "outputs": [
    {
     "name": "stdout",
     "output_type": "stream",
     "text": [
      "Model test error:  435.96493151546\n"
     ]
    }
   ],
   "source": [
    "# Avaliando o desempenho no conjunto de teste\n",
    "y_test_pred = mc_classification_forward_pass(X_test, W_hidden, W_output, sigmoid_activation, softmax_activation)[3]\n",
    "test_error = cross_entropy_loss(y_test_pred, y_test, W_hidden, W_output, 0.01)\n",
    "print(\"Model test error: \", test_error)"
   ]
  },
  {
   "cell_type": "code",
   "execution_count": 30,
   "id": "ac2ef402",
   "metadata": {},
   "outputs": [
    {
     "name": "stdout",
     "output_type": "stream",
     "text": [
      "Accuracy:  0.9740740740740741\n"
     ]
    }
   ],
   "source": [
    "# Calculando a acurácia do modelo\n",
    "correct_preds = np.sum(np.argmax(y_test_pred, axis = 1) == y_test)\n",
    "print(\"Accuracy: \", correct_preds/y_test.size)"
   ]
  }
 ],
 "metadata": {
  "kernelspec": {
   "display_name": "Python 3 (ipykernel)",
   "language": "python",
   "name": "python3"
  },
  "language_info": {
   "codemirror_mode": {
    "name": "ipython",
    "version": 3
   },
   "file_extension": ".py",
   "mimetype": "text/x-python",
   "name": "python",
   "nbconvert_exporter": "python",
   "pygments_lexer": "ipython3",
   "version": "3.11.5"
  }
 },
 "nbformat": 4,
 "nbformat_minor": 5
}
