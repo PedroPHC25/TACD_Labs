{
 "cells": [
  {
   "cell_type": "code",
   "execution_count": 1,
   "id": "8e7fb8cd-82ca-4639-a941-a91146817ef5",
   "metadata": {
    "tags": []
   },
   "outputs": [],
   "source": [
    "import pandas as pd\n",
    "import numpy as np"
   ]
  },
  {
   "cell_type": "markdown",
   "id": "0b3b79ba-6d08-4aaf-9192-28ea6d12823a",
   "metadata": {},
   "source": [
    "# Lab 08 - Virtual Screening Problem\n",
    "In this lab, your task is to create a predictive Machine Learning model that will be deployed as a Virtual Screening (VS) tool. VS is a powerful computational technique used to evaluate the desired biological activity of thousands of drug molecules. By using this technology, we can significantly reduce the time and expenses involved in the drug development pipeline.\n",
    "\n",
    "In this lab, you will take on the role of a **Machine Learning Engineer** at an innovative Pharmaceutical company. Your team has been working on identifying new treatments for Chagas disease, and your job is to train a machine learning model that can be used as a virtual screening tool to identify potential candidates for the treatment. After conducting some research, you've found a promising dataset of a detailed [_in vivo_](https://ridgewayresearch.co.uk/parasite-diagnostics-laboratory/in-vitro-in-vivo-assays/#:~:text=In%20vivo%20assays%20are%20used,Assess%20their%20safety) assay where thousands of molecules were evaluated to determine their biological activity in suppressing Trypanosoma Cruzi, the causal agent of Chagas disease. With your team, you've decided that this high-quality dataset can be used to train the machine learning model.\n",
    "\n",
    "Your team of **Feature Engineers** has extracted different types of molecular features that describe these drug molecules and has generated the following dataset: `cruzi_comp_activity_molecular_features.csv`. However, they've also informed you that for some molecules, some molecular features, specifically \"NumberOfAromaticRings\" and \"TPSA\", couldn't be extracted. It's now up to you, the ML Engineer, to decide how to handle this issue.\n",
    "\n",
    "The outcome of the in vivo assay is recorded in the \"EC50\" column of the dataset. According to the report, any molecule with an EC50 activity of less than or equal to 1 $\\mu M$ is considered active. This means that for a molecule to be deemed active, its EC50 value must be no greater than 1 $\\mu M$. These active molecules can then be prioritized as potential candidates for a new treatment against Chagas disease.\n",
    "\n",
    "You will need to analyze the data, consider the problem at hand, and decide whether to train a regression or a classification model. You will also need to select a correct and relevant performance metric for your model(s).\n",
    "\n",
    "Please note that you are free to use any of the algorithms that were covered in the class for both regression and classification tasks. However, you must not import any other classifiers, such as Random Forests, XgBoost, or any other algorithm not covered in the class.\n",
    "\n",
    "The task for today is analyse the performance of the different methods when applied to this interesting real-life problem, and obtain the best predictive model. As a side task, you can compare your own implementations of the algorithms with the sklearn ones and see if they behave in the same way and if they don't then try to think what could be causing these differences. "
   ]
  },
  {
   "cell_type": "code",
   "execution_count": 2,
   "id": "cb97cd1a-34fc-47c5-a059-a1c3127a2f7e",
   "metadata": {},
   "outputs": [],
   "source": [
    "# import the data\n",
    "mol_df = pd.read_csv('cruzi_comp_activity_molecular_features.csv')"
   ]
  },
  {
   "cell_type": "code",
   "execution_count": 9,
   "id": "e74f8ba9-26fb-45c0-bd01-acb659e09cb1",
   "metadata": {},
   "outputs": [],
   "source": [
    "# your code goes here... You can add as many code cells as you wish.\n",
    "from sklearn.model_selection import train_test_split\n",
    "import matplotlib.pyplot as plt\n",
    "\n",
    "y = mol_df[\"EC50\"].to_numpy()\n",
    "X = mol_df.drop([\"CID\", \"EC50\"], axis = 1).to_numpy()\n",
    "\n",
    "col_means = np.nanmean(X, axis = 0)\n",
    "nans = np.where(np.isnan(X))\n",
    "X[nans] = np.take(col_means, nans[1])\n",
    "\n",
    "X_train_and_val, X_test, y_train_and_val, y_test = train_test_split(X, y, test_size = 0.15)\n",
    "X_train, X_val, y_train, y_val = train_test_split(X_train_and_val, y_train_and_val, test_size = 3/17)"
   ]
  },
  {
   "cell_type": "code",
   "execution_count": 29,
   "id": "7b50ea03",
   "metadata": {},
   "outputs": [
    {
     "name": "stdout",
     "output_type": "stream",
     "text": [
      "[-60316.30861491439, -60316.30861491439, -60316.30861491439, -60316.30861491439, -60316.30861491439, -60316.30861491439, -60316.30861491439, -60316.30861491439, -60316.30861491439, -60316.30861491439, -60316.30861491439, -60316.30861491439, -60316.30861491439, -60316.30861491439, -60316.30861491439, -60316.30861491439, -60316.30861491439, -60316.30861491439, -60316.30861491439, -60316.30861491439, -60316.30861491439, -60316.30861491439, -60316.30861491439, -60316.30861491439, -60316.30861491439, -60316.30861491439, -60316.30861491439, -60316.30861491439, -60316.30861491439, -60316.30861491439, -60316.30861491439, -60316.30861491439, -60316.30861491439, -60316.30861491439, -60316.30861491439, -60316.30861491439, -60316.30861491439, -60316.30861491439, -60316.30861491439, -60316.30861491439, -60316.30861491439, -60316.30861491439, -60316.30861491439, -60316.30861491439, -60316.30861491439, -60316.30861491439, -60316.30861491439, -60316.30861491439, -60316.30861491439, -60316.30861491439, -60316.30861491439, -60316.30861491439, -60316.30861491439, -60316.30861491439, -60316.30861491439, -60316.30861491439, -60316.30861491439, -60316.30861491439, -60316.30861491439, -60316.30861491439, -60316.30861491439, -60316.30861491439, -60316.30861491439, -60316.30861491439, -60316.30861491439, -60316.30861491439, -60316.30861491439, -60316.30861491439, -60316.30861491439, -60316.30861491439, -60316.30861491439, -60316.30861491439, -60316.30861491439, -60316.30861491439, -60316.30861491439, -60316.30861491439, -60316.30861491439, -60316.30861491439, -60316.30861491439, -60316.30861491439, -60316.30861491439, -60316.30861491439, -60316.30861491439, -60316.30861491439, -60316.30861491439, -60316.30861491439, -60316.30861491439, -60316.30861491439, -60316.30861491439, -60316.30861491439, -60316.30861491439, -60316.30861491439, -60316.30861491439, -60316.30861491439, -60316.30861491439, -60316.30861491439, -60316.30861491439, -60316.30861491439, -60316.30861491439, -60316.30861491439, -60316.30861491439, -60316.30861491439, -60316.30861491439, -60316.30861491439, -60316.30861491439, -60316.30861491439, -60316.30861491439, -60316.30861491439, -60316.30861491439, -60316.30861491439, -60316.30861491439, -60316.30861491439, -60316.30861491439, -60316.30861491439, -60316.30861491439, -60316.30861491439, -60316.30861491439, -60316.30861491439, -60316.30861491439, -60316.30861491439, -60316.30861491439, -60316.30861491439, -60316.30861491439, -60316.30861491439, -60316.30861491439, -60316.30861491439, -60316.30861491439, -60316.30861491439, -60316.30861491439, -60316.30861491439, -60316.30861491439, -60316.30861491439, -60316.30861491439, -60316.30861491439, -60316.30861491439, -60316.30861491439, -60316.30861491439, -60316.30861491439, -60316.30861491439, -60316.30861491439, -60316.30861491439, -60316.30861491439, -60316.30861491439, -60316.30861491439, -60316.30861491439, -60316.30861491439, -60316.30861491439, -60316.30861491439, -60316.30861491439, -60316.30861491439]\n"
     ]
    },
    {
     "data": {
      "image/png": "[encoded data removed]",
      "text/plain": [
       "<Figure size 640x480 with 1 Axes>"
      ]
     },
     "metadata": {},
     "output_type": "display_data"
    }
   ],
   "source": [
    "# Função para calcular a sigmoide\n",
    "def sigmoid(a):\n",
    "    result = 1/(1 + np.exp(-a))\n",
    "    return result\n",
    "\n",
    "# Função para calcular o erro pela entropia cruzada\n",
    "def cross_entropy(y_true, y_pred):\n",
    "    return -(y_true.T @ np.log(y_pred + 10**(-10)) + (1 - y_true).T @ np.log(1 - y_pred + 10**(-10)))\n",
    "\n",
    "# Função para aprender os parâmetros da regressão logística\n",
    "def logistic_regression(X, y, lr, max_iter):\n",
    "    # Histórico dos erros\n",
    "    history_loss = []\n",
    "    # Número de características\n",
    "    n_of_features = X.shape[1]\n",
    "\n",
    "    # Inicializando o w\n",
    "    w = np.random.normal(scale = 1, size = n_of_features)\n",
    "\n",
    "    # Fazendo a primeira predição\n",
    "    y_pred = sigmoid(X @ w)\n",
    "\n",
    "    # Para cada iteração...\n",
    "    for _ in range(max_iter):\n",
    "        # Calcula o gradiente\n",
    "        gradient = X.T @ (y_pred - y)\n",
    "        # Atualiza o w\n",
    "        w -= lr * gradient\n",
    "        # Faz a nova predição\n",
    "        y_pred = sigmoid(X @ w)\n",
    "        # Calcula e salva o erro\n",
    "        error = cross_entropy(y, y_pred)\n",
    "        history_loss.append(error)\n",
    "\n",
    "    print(history_loss)\n",
    "\n",
    "    # Plotando o gráfico do erro por iteração\n",
    "    plt.plot(history_loss)\n",
    "    plt.title(\"Loss per iteration\")\n",
    "    plt.xlabel(\"Iteration\")\n",
    "    plt.ylabel(\"Loss\")\n",
    "    plt.show()\n",
    "\n",
    "    return w\n",
    "\n",
    "# Aprendendo os parâmetros\n",
    "w = logistic_regression(X_train, y_train, 1, 150)"
   ]
  },
  {
   "cell_type": "markdown",
   "id": "5d1ee45c-dae2-4e02-8fcb-899902f882a4",
   "metadata": {},
   "source": [
    "## Round 2\n",
    "After conducting some initial experiments, your team is not entirely satisfied with the obtained results. Several factors could be affecting the performance at this stage. One possible reason could be that the dataset size is too small, with insufficient assessed compounds. Another possible cause could be that the features used are not adequately descriptive. To address this, you request the feature engineers to extract additional features for the compounds. They have generated a new dataset, named `cruzi_comp_activity_structural_features.csv`, which includes the chemical substructures present in each compound that are known to be informative of biological activity.\n",
    "\n",
    "Your next task is to assess the effectiveness of these newly extracted features. It is crucial to determine if they improve the model's performance. You can experiment with both sets of features or even the combination of both. With these many algorithms and parameters to set, the validation set will be very important! Report the performance of each model on a held-out test set with relevant evaluation metrics. "
   ]
  },
  {
   "cell_type": "code",
   "execution_count": 2,
   "id": "5c7e46fe-4b7c-43d0-98c7-fa83a6b6e700",
   "metadata": {},
   "outputs": [],
   "source": [
    "# load the dataset\n",
    "struct_df = pd.read_csv('data/cruzi_comp_activity_structural_features.csv')"
   ]
  },
  {
   "cell_type": "code",
   "execution_count": 3,
   "id": "e607954f-c577-4426-b89b-2eee579ef040",
   "metadata": {},
   "outputs": [],
   "source": [
    "# your code goes here... You can add as many code cells as you wish.\n"
   ]
  },
  {
   "cell_type": "markdown",
   "id": "6bff2ce9",
   "metadata": {},
   "source": [
    "Below is a markdown example of how you can report the results! Feel free to modify it to your liking!\n",
    "\n",
    "| **Method**        | **Metric 1** | **Metric 2** | **Metric 3** | **...** |\n",
    "|-------------------|--------------|--------------|--------------|---------|\n",
    "| **Log Reg**       |              |              |              |         |\n",
    "| **KNN**           |              |              |              |         |\n",
    "| **Neural Nets**   |              |              |              |         |\n",
    "| **Random Forest** |              |              |              |         |\n",
    "| **...**           |              |              |              |         |"
   ]
  }
 ],
 "metadata": {
  "kernelspec": {
   "display_name": "Python 3 (ipykernel)",
   "language": "python",
   "name": "python3"
  },
  "language_info": {
   "codemirror_mode": {
    "name": "ipython",
    "version": 3
   },
   "file_extension": ".py",
   "mimetype": "text/x-python",
   "name": "python",
   "nbconvert_exporter": "python",
   "pygments_lexer": "ipython3",
   "version": "3.11.5"
  }
 },
 "nbformat": 4,
 "nbformat_minor": 5
}
