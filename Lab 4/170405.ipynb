{
 "cells": [
  {
   "cell_type": "code",
   "execution_count": 271,
   "metadata": {},
   "outputs": [],
   "source": [
    "import numpy as np\n",
    "import pandas as pd\n",
    "import matplotlib.pyplot as plt"
   ]
  },
  {
   "cell_type": "markdown",
   "metadata": {},
   "source": [
    "# Linear Regression\n",
    "\n",
    "In this lab, we are going to implement a Linear Regression model \"by hand\" and also use sklearn to implement linear regressors using different basis functions, and then add regularization to the models.\n",
    "\n"
   ]
  },
  {
   "cell_type": "markdown",
   "metadata": {},
   "source": [
    "## Part 1 - Synthetic and real datasets\n",
    "\n",
    "* Generate 50 points in a line in the interval $[0, 10]$ for `x`, perturbed by a small gaussian noise. For example, `y = 2 * x + 5 + noise` where `noise` is taken from a normal distribution.\n",
    "* plot the generated data as a scatter plot, and the line without noise as a reference\n",
    "\n",
    "*Note:* If you want to generate the same data as I generated, use $y = 3x + 5 + \\epsilon$ after setting the random seed to 0"
   ]
  },
  {
   "cell_type": "code",
   "execution_count": 272,
   "metadata": {},
   "outputs": [
    {
     "data": {
      "image/png": "[encoded data removed]",
      "text/plain": [
       "<Figure size 640x480 with 1 Axes>"
      ]
     },
     "metadata": {},
     "output_type": "display_data"
    }
   ],
   "source": [
    "# your code here\n",
    "\n",
    "# Vetor x uniforme\n",
    "x = np.linspace(0,10,50)\n",
    "# Vetor de ruído\n",
    "noise = np.random.normal(size = 50)\n",
    "# Vetores y com e sem ruído\n",
    "y = 3*x + 5 + noise\n",
    "y_line = 3*x + 5\n",
    "\n",
    "# Plotando os dados\n",
    "plt.scatter(x, y, label = \"data\")\n",
    "plt.plot(x, y_line, label = \"generating process\")\n",
    "plt.legend()\n",
    "\n",
    "plt.show()"
   ]
  },
  {
   "cell_type": "markdown",
   "metadata": {},
   "source": [
    "### Load the housing dataset\n",
    "\n",
    "For this lab we will be using the raw version of the Housing dataset that you used for the first coursework.\n",
    "\n",
    "**Housing.txt:** this dataset is constituted by 506 points in 14 dimensions. Each point represents a house in the Boston area, and the 14 attributes that you find orderly in each column are the following:\n",
    "* `CRIM` - per capita crime rate by town\n",
    "* `ZN` - proportion of residential land zoned for lots over 25,000 sq.ft.\n",
    "* `INDUS` - proportion of non-retail business acres per town.\n",
    "* `CHAS` - Charles River dummy variable (1 if tract bounds river; 0 otherwise) \n",
    "* `NOX` - nitric oxides concentration (parts per 10 million)\n",
    "* `RM` - average number of rooms per dwelling\n",
    "* `AGE` - proportion of owner-occupied units built prior to 1940\n",
    "* `DIS` - weighted distances to five Boston employment centres\n",
    "* `RAD` - index of accessibility to radial highways\n",
    "* `TAX` - full-value property-tax rate per \\$10,000\n",
    "* `PTRATIO` - pupil-teacher ratio by town\n",
    "* `B` - 1000(Bk - 0.63)^2 where Bk is the proportion of blacks by town\n",
    "* `LSTAT` - % lower status of the population\n",
    "* `MEDV` - Median value of owner-occupied homes in $1000's\n",
    "\n",
    "This dataset is normally associated with 2 regression tasks: predicting `NOX` (in which the nitrous oxide level is to be predicted); and predicting price `MEDV` (in which the median value of a home is to be predicted)."
   ]
  },
  {
   "cell_type": "code",
   "execution_count": 273,
   "metadata": {},
   "outputs": [
    {
     "data": {
      "text/html": [
       "<div>\n",
       "<style scoped>\n",
       "    .dataframe tbody tr th:only-of-type {\n",
       "        vertical-align: middle;\n",
       "    }\n",
       "\n",
       "    .dataframe tbody tr th {\n",
       "        vertical-align: top;\n",
       "    }\n",
       "\n",
       "    .dataframe thead th {\n",
       "        text-align: right;\n",
       "    }\n",
       "</style>\n",
       "<table border=\"1\" class=\"dataframe\">\n",
       "  <thead>\n",
       "    <tr style=\"text-align: right;\">\n",
       "      <th></th>\n",
       "      <th>CRIM</th>\n",
       "      <th>ZN</th>\n",
       "      <th>INDUS</th>\n",
       "      <th>CHAS</th>\n",
       "      <th>NOX</th>\n",
       "      <th>RM</th>\n",
       "      <th>AGE</th>\n",
       "      <th>DIS</th>\n",
       "      <th>RAD</th>\n",
       "      <th>TAX</th>\n",
       "      <th>PTRATIO</th>\n",
       "      <th>B</th>\n",
       "      <th>LSTAT</th>\n",
       "      <th>MEDV</th>\n",
       "    </tr>\n",
       "  </thead>\n",
       "  <tbody>\n",
       "    <tr>\n",
       "      <th>0</th>\n",
       "      <td>CRIM</td>\n",
       "      <td>ZN</td>\n",
       "      <td>INDUS</td>\n",
       "      <td>CHAS</td>\n",
       "      <td>NOX</td>\n",
       "      <td>RM</td>\n",
       "      <td>AGE</td>\n",
       "      <td>DIS</td>\n",
       "      <td>RAD</td>\n",
       "      <td>TAX</td>\n",
       "      <td>PTRATIO</td>\n",
       "      <td>B</td>\n",
       "      <td>LSTAT</td>\n",
       "      <td>MEDV</td>\n",
       "    </tr>\n",
       "    <tr>\n",
       "      <th>1</th>\n",
       "      <td>0.0</td>\n",
       "      <td>0.16551443847757338</td>\n",
       "      <td>0.06781524926686218</td>\n",
       "      <td>0.0</td>\n",
       "      <td>0.273695830477041</td>\n",
       "      <td>0.4558446556550128</td>\n",
       "      <td>0.49567539105883546</td>\n",
       "      <td>0.23838925398768368</td>\n",
       "      <td>0.0</td>\n",
       "      <td>0.18897873782313399</td>\n",
       "      <td>0.2524957633267373</td>\n",
       "      <td>0.6931471805599452</td>\n",
       "      <td>0.08588399412377948</td>\n",
       "      <td>3.2188758248682006</td>\n",
       "    </tr>\n",
       "    <tr>\n",
       "      <th>2</th>\n",
       "      <td>0.00023589471383251288</td>\n",
       "      <td>0.0</td>\n",
       "      <td>0.2423020527859238</td>\n",
       "      <td>0.0</td>\n",
       "      <td>0.15942773692810197</td>\n",
       "      <td>0.4369622898362954</td>\n",
       "      <td>0.5781280868848844</td>\n",
       "      <td>0.2993353931326901</td>\n",
       "      <td>0.04255961441879593</td>\n",
       "      <td>0.09981079325195306</td>\n",
       "      <td>0.44031183943833263</td>\n",
       "      <td>0.6931471805599452</td>\n",
       "      <td>0.18603980111083265</td>\n",
       "      <td>3.1179499062782403</td>\n",
       "    </tr>\n",
       "    <tr>\n",
       "      <th>3</th>\n",
       "      <td>0.0002356699716511248</td>\n",
       "      <td>0.0</td>\n",
       "      <td>0.2423020527859238</td>\n",
       "      <td>0.0</td>\n",
       "      <td>0.15942773692810197</td>\n",
       "      <td>0.5273203729323218</td>\n",
       "      <td>0.46961735485736217</td>\n",
       "      <td>0.2993353931326901</td>\n",
       "      <td>0.04255961441879593</td>\n",
       "      <td>0.09981079325195306</td>\n",
       "      <td>0.44031183943833263</td>\n",
       "      <td>0.6880025966109696</td>\n",
       "      <td>0.06153318181144175</td>\n",
       "      <td>3.5751506887855933</td>\n",
       "    </tr>\n",
       "    <tr>\n",
       "      <th>4</th>\n",
       "      <td>0.00029275286287910716</td>\n",
       "      <td>0.0</td>\n",
       "      <td>0.06304985337243403</td>\n",
       "      <td>0.0</td>\n",
       "      <td>0.13994084925460543</td>\n",
       "      <td>0.5059469094428497</td>\n",
       "      <td>0.36590104731202505</td>\n",
       "      <td>0.3705593212114958</td>\n",
       "      <td>0.08338160893905106</td>\n",
       "      <td>0.06465778883405697</td>\n",
       "      <td>0.5001303346492426</td>\n",
       "      <td>0.6902811074512862</td>\n",
       "      <td>0.032843228788449905</td>\n",
       "      <td>3.5380565643793527</td>\n",
       "    </tr>\n",
       "    <tr>\n",
       "      <th>...</th>\n",
       "      <td>...</td>\n",
       "      <td>...</td>\n",
       "      <td>...</td>\n",
       "      <td>...</td>\n",
       "      <td>...</td>\n",
       "      <td>...</td>\n",
       "      <td>...</td>\n",
       "      <td>...</td>\n",
       "      <td>...</td>\n",
       "      <td>...</td>\n",
       "      <td>...</td>\n",
       "      <td>...</td>\n",
       "      <td>...</td>\n",
       "      <td>...</td>\n",
       "    </tr>\n",
       "    <tr>\n",
       "      <th>502</th>\n",
       "      <td>0.0006327106197177769</td>\n",
       "      <td>0.0</td>\n",
       "      <td>0.42045454545454547</td>\n",
       "      <td>0.0</td>\n",
       "      <td>0.32702148701181316</td>\n",
       "      <td>0.45802859246093003</td>\n",
       "      <td>0.5198476246791401</td>\n",
       "      <td>0.11571060925114904</td>\n",
       "      <td>0.0</td>\n",
       "      <td>0.15196727284631473</td>\n",
       "      <td>0.6384887680220813</td>\n",
       "      <td>0.6869375122545108</td>\n",
       "      <td>0.19810871681719253</td>\n",
       "      <td>3.152736022363656</td>\n",
       "    </tr>\n",
       "    <tr>\n",
       "      <th>503</th>\n",
       "      <td>0.00043769280743545676</td>\n",
       "      <td>0.0</td>\n",
       "      <td>0.42045454545454547</td>\n",
       "      <td>0.0</td>\n",
       "      <td>0.32702148701181316</td>\n",
       "      <td>0.39899342307227936</td>\n",
       "      <td>0.565337214824266</td>\n",
       "      <td>0.10011073860026859</td>\n",
       "      <td>0.0</td>\n",
       "      <td>0.15196727284631473</td>\n",
       "      <td>0.6384887680220813</td>\n",
       "      <td>0.6931471805599452</td>\n",
       "      <td>0.18466428507552266</td>\n",
       "      <td>3.0726933146901194</td>\n",
       "    </tr>\n",
       "    <tr>\n",
       "      <th>504</th>\n",
       "      <td>0.0006117053443038648</td>\n",
       "      <td>0.0</td>\n",
       "      <td>0.42045454545454547</td>\n",
       "      <td>0.0</td>\n",
       "      <td>0.32702148701181316</td>\n",
       "      <td>0.5034020844720096</td>\n",
       "      <td>0.6456949469147998</td>\n",
       "      <td>0.0901890380016797</td>\n",
       "      <td>0.0</td>\n",
       "      <td>0.15196727284631473</td>\n",
       "      <td>0.6384887680220813</td>\n",
       "      <td>0.6931471805599452</td>\n",
       "      <td>0.1024589592179921</td>\n",
       "      <td>3.214867803470662</td>\n",
       "    </tr>\n",
       "    <tr>\n",
       "      <th>505</th>\n",
       "      <td>0.0011600567748273284</td>\n",
       "      <td>0.0</td>\n",
       "      <td>0.42045454545454547</td>\n",
       "      <td>0.0</td>\n",
       "      <td>0.32702148701181316</td>\n",
       "      <td>0.482097287092534</td>\n",
       "      <td>0.6364732921973457</td>\n",
       "      <td>0.10841851650460242</td>\n",
       "      <td>0.0</td>\n",
       "      <td>0.15196727284631473</td>\n",
       "      <td>0.6384887680220813</td>\n",
       "      <td>0.6887880032892966</td>\n",
       "      <td>0.12316465334146762</td>\n",
       "      <td>3.1354942159291497</td>\n",
       "    </tr>\n",
       "    <tr>\n",
       "      <th>506</th>\n",
       "      <td>0.00046173507689203496</td>\n",
       "      <td>0.0</td>\n",
       "      <td>0.42045454545454547</td>\n",
       "      <td>0.0</td>\n",
       "      <td>0.32702148701181316</td>\n",
       "      <td>0.38735485900671524</td>\n",
       "      <td>0.5890445986262348</td>\n",
       "      <td>0.1178466879331105</td>\n",
       "      <td>0.0</td>\n",
       "      <td>0.15196727284631473</td>\n",
       "      <td>0.6384887680220813</td>\n",
       "      <td>0.6931471805599452</td>\n",
       "      <td>0.15674900418976717</td>\n",
       "      <td>2.5572273113676265</td>\n",
       "    </tr>\n",
       "  </tbody>\n",
       "</table>\n",
       "<p>507 rows × 14 columns</p>\n",
       "</div>"
      ],
      "text/plain": [
       "                       CRIM                   ZN                INDUS  CHAS   \n",
       "0                      CRIM                   ZN                INDUS  CHAS  \\\n",
       "1                       0.0  0.16551443847757338  0.06781524926686218   0.0   \n",
       "2    0.00023589471383251288                  0.0   0.2423020527859238   0.0   \n",
       "3     0.0002356699716511248                  0.0   0.2423020527859238   0.0   \n",
       "4    0.00029275286287910716                  0.0  0.06304985337243403   0.0   \n",
       "..                      ...                  ...                  ...   ...   \n",
       "502   0.0006327106197177769                  0.0  0.42045454545454547   0.0   \n",
       "503  0.00043769280743545676                  0.0  0.42045454545454547   0.0   \n",
       "504   0.0006117053443038648                  0.0  0.42045454545454547   0.0   \n",
       "505   0.0011600567748273284                  0.0  0.42045454545454547   0.0   \n",
       "506  0.00046173507689203496                  0.0  0.42045454545454547   0.0   \n",
       "\n",
       "                     NOX                   RM                  AGE   \n",
       "0                    NOX                   RM                  AGE  \\\n",
       "1      0.273695830477041   0.4558446556550128  0.49567539105883546   \n",
       "2    0.15942773692810197   0.4369622898362954   0.5781280868848844   \n",
       "3    0.15942773692810197   0.5273203729323218  0.46961735485736217   \n",
       "4    0.13994084925460543   0.5059469094428497  0.36590104731202505   \n",
       "..                   ...                  ...                  ...   \n",
       "502  0.32702148701181316  0.45802859246093003   0.5198476246791401   \n",
       "503  0.32702148701181316  0.39899342307227936    0.565337214824266   \n",
       "504  0.32702148701181316   0.5034020844720096   0.6456949469147998   \n",
       "505  0.32702148701181316    0.482097287092534   0.6364732921973457   \n",
       "506  0.32702148701181316  0.38735485900671524   0.5890445986262348   \n",
       "\n",
       "                     DIS                  RAD                  TAX   \n",
       "0                    DIS                  RAD                  TAX  \\\n",
       "1    0.23838925398768368                  0.0  0.18897873782313399   \n",
       "2     0.2993353931326901  0.04255961441879593  0.09981079325195306   \n",
       "3     0.2993353931326901  0.04255961441879593  0.09981079325195306   \n",
       "4     0.3705593212114958  0.08338160893905106  0.06465778883405697   \n",
       "..                   ...                  ...                  ...   \n",
       "502  0.11571060925114904                  0.0  0.15196727284631473   \n",
       "503  0.10011073860026859                  0.0  0.15196727284631473   \n",
       "504   0.0901890380016797                  0.0  0.15196727284631473   \n",
       "505  0.10841851650460242                  0.0  0.15196727284631473   \n",
       "506   0.1178466879331105                  0.0  0.15196727284631473   \n",
       "\n",
       "                 PTRATIO                   B                 LSTAT   \n",
       "0                PTRATIO                   B                 LSTAT  \\\n",
       "1     0.2524957633267373  0.6931471805599452   0.08588399412377948   \n",
       "2    0.44031183943833263  0.6931471805599452   0.18603980111083265   \n",
       "3    0.44031183943833263  0.6880025966109696   0.06153318181144175   \n",
       "4     0.5001303346492426  0.6902811074512862  0.032843228788449905   \n",
       "..                   ...                 ...                   ...   \n",
       "502   0.6384887680220813  0.6869375122545108   0.19810871681719253   \n",
       "503   0.6384887680220813  0.6931471805599452   0.18466428507552266   \n",
       "504   0.6384887680220813  0.6931471805599452    0.1024589592179921   \n",
       "505   0.6384887680220813  0.6887880032892966   0.12316465334146762   \n",
       "506   0.6384887680220813  0.6931471805599452   0.15674900418976717   \n",
       "\n",
       "                   MEDV  \n",
       "0                  MEDV  \n",
       "1    3.2188758248682006  \n",
       "2    3.1179499062782403  \n",
       "3    3.5751506887855933  \n",
       "4    3.5380565643793527  \n",
       "..                  ...  \n",
       "502   3.152736022363656  \n",
       "503  3.0726933146901194  \n",
       "504   3.214867803470662  \n",
       "505  3.1354942159291497  \n",
       "506  2.5572273113676265  \n",
       "\n",
       "[507 rows x 14 columns]"
      ]
     },
     "execution_count": 273,
     "metadata": {},
     "output_type": "execute_result"
    }
   ],
   "source": [
    "housing_names = [\"CRIM\", \"ZN\", \"INDUS\", \"CHAS\", \"NOX\", \"RM\", \"AGE\", \"DIS\", \"RAD\", \"TAX\", \"PTRATIO\", \"B\", \"LSTAT\", \"MEDV\"]\n",
    "housing = pd.read_table(\"housing.csv\", names=housing_names, sep=',')\n",
    "housing"
   ]
  },
  {
   "cell_type": "markdown",
   "metadata": {},
   "source": [
    "## Part 2 -- Build Linear Regression Models\n",
    "\n",
    "You will need to implement it twice:\n",
    "\n",
    "1. using the Normal Equations seen in class (Moore-Penrose pseudo-inverse)\n",
    "2. using stochastic gradient descent\n",
    "\n",
    "* **Tip 1:** When you implement the stochastic gradient version it will be crucial to plot the sum of squares error as a function of the iteration\n",
    "* **Tip 2:** You will need to initialize the weights. Start by choosing them randomly, Gaussian distributed, with a very small variance...\n",
    "\n",
    "Run some experiments with your stochastic gradient descent version, and think about these questions: \n",
    "* what happens with different values of the step parameter? \n",
    "* Does the system always converge to the same solution? \n",
    "* Are you getting the same solution that you get with the closed form implementation? \n",
    "* What happens if you initialize your weights to values that are too big?\n",
    "\n",
    "Below, I provide some skeletons for your implementations, but feel free to structure your code differently.\n",
    "\n",
    "Remember to:\n",
    "* Separate the datasets into training and testing (I used 60% for training)\n"
   ]
  },
  {
   "cell_type": "code",
   "execution_count": 274,
   "metadata": {},
   "outputs": [],
   "source": [
    "def linear_regression_PI(X, y):\n",
    "    \"\"\"\n",
    "    Implements a Linear Regression model using the Moore-Penrose pseudo-inverse\n",
    "    \n",
    "    Parameters\n",
    "    ----------\n",
    "    X : array\n",
    "        A 2-dimensional array with samples in the rows and features in the columns\n",
    "    y : array\n",
    "        An array with the same number of  as samples in X, the values to predict\n",
    "    \n",
    "    Returns\n",
    "    -------\n",
    "    w : array\n",
    "        Learnt parameters\n",
    "        \n",
    "    Notes\n",
    "    -----\n",
    "    The first column of w corresponds to the bias (`w_0`)\n",
    "    \"\"\"\n",
    "    # Calculando a pseudo-inversa da matriz de dados (já com a coluna referente ao bias)\n",
    "    pseudo_inverse = np.linalg.inv(X.T @ X) @ X.T\n",
    "    # Encontrando o vetor w\n",
    "    w = pseudo_inverse @ y\n",
    "\n",
    "    return w\n",
    "\n",
    "\n",
    "def linear_regression_SGD(X, y, lr, max_iter=10):\n",
    "    \"\"\"\n",
    "    Implements a Linear Regression model using Stochastic Gradient Descent\n",
    "    \n",
    "    Parameters\n",
    "    ----------\n",
    "    X : array\n",
    "        A 2-dimensional array with samples in the rows and features in the columns\n",
    "    y : array\n",
    "        An array with the same number of  as samples in X, the values to predict\n",
    "    lr : float\n",
    "        Learning rate\n",
    "    max_iter : int\n",
    "        number of epochs to use for the gradient descent\n",
    "    \n",
    "    Returns\n",
    "    -------\n",
    "    w : array\n",
    "        Learnt parameters\n",
    "    sse_history : array\n",
    "        An array that contains the error of the model in every iteration\n",
    "    Notes\n",
    "    -----\n",
    "    This function uses the gradient of the sum of squares function (Equations 3.12, and 3.23 in the Bishop book)\n",
    "    \"\"\"\n",
    "    # Números de dados e de colunas da tabela de dados (já com a coluna referente ao bias)\n",
    "    n_of_datapoints = X.shape[0]\n",
    "    n_of_features = X.shape[1]\n",
    "\n",
    "    # Inicializando o vetor do histórico do SSE ao longo das épocas\n",
    "    sse_history = np.zeros(max_iter)\n",
    "    # Escolhendo um primeiro w aleatoriamente\n",
    "    w = np.random.normal(scale = 0.0001, size = n_of_features)\n",
    "\n",
    "    # Em cada época...\n",
    "    for epoch in range(max_iter):\n",
    "        # Em cada iteração...\n",
    "        for iteration in range(n_of_datapoints):\n",
    "            # Seleciona um dado aleatório\n",
    "            datapoint = np.random.choice(X.index.tolist())\n",
    "            # Calcula o gradiente do vetor de erro com base nesse datapoint\n",
    "            gradient = ((w.T @ X.loc[datapoint]) - y[datapoint]) * X.loc[datapoint]\n",
    "            # Subtrai do w o gradiente multiplicado pela taxa de aprendizado\n",
    "            w -= lr * gradient\n",
    "            \n",
    "        # Calculando o SSE\n",
    "        sse = np.sum(((y - w.T @ X.T)**2)/2)\n",
    "        # Salvando no vetor de histórico\n",
    "        sse_history[epoch] = sse\n",
    "\n",
    "    return w, sse_history"
   ]
  },
  {
   "cell_type": "markdown",
   "metadata": {},
   "source": [
    "we can now use this function to learn the parameters for predicting `NOX`"
   ]
  },
  {
   "cell_type": "markdown",
   "metadata": {},
   "source": [
    "First you will have to prepare the data:\n",
    "- Separate the features from the target variables (Put the features in a matrix X and the target variable in a vector y)\n",
    "- Split the data using sklearn's train_test_split."
   ]
  },
  {
   "cell_type": "code",
   "execution_count": 275,
   "metadata": {},
   "outputs": [],
   "source": [
    "# your code here\n",
    "# Inserindo a coluna referente ao bias\n",
    "housing.insert(0, \"BIAS\", 1)"
   ]
  },
  {
   "cell_type": "code",
   "execution_count": 276,
   "metadata": {},
   "outputs": [],
   "source": [
    "from sklearn.model_selection import train_test_split\n",
    "\n",
    "# Excluindo a primeira linha (está repetindo os nomes das colunas)\n",
    "housing_clean = housing.drop(0, axis = 0)\n",
    "# Salvando o vetor de targets pegando a coluna de NOX e convertendo-a para float\n",
    "y_nox = housing_clean[\"NOX\"]\n",
    "y_nox = y_nox.astype(float)\n",
    "# Salvando a matriz de dados excluindo a coluna de NOX e convertendo os dados para float\n",
    "X_nox = housing_clean.drop(\"NOX\", axis = 1)\n",
    "X_nox = X_nox.astype(float)\n",
    "\n",
    "# Separando os dados de treino e teste\n",
    "X_nox_train, X_nox_test, y_nox_train, y_nox_test = train_test_split(X_nox, y_nox, train_size = 0.6)"
   ]
  },
  {
   "cell_type": "markdown",
   "metadata": {},
   "source": [
    "Now use the functions you coded to learn the weights!"
   ]
  },
  {
   "cell_type": "code",
   "execution_count": 277,
   "metadata": {},
   "outputs": [
    {
     "data": {
      "text/plain": [
       "0     0.652656\n",
       "1    -0.239860\n",
       "2    -0.028436\n",
       "3     0.150235\n",
       "4     0.041070\n",
       "5     0.000641\n",
       "6     0.166447\n",
       "7    -0.437782\n",
       "8     0.167186\n",
       "9     0.021824\n",
       "10   -0.224497\n",
       "11   -0.028193\n",
       "12   -0.051701\n",
       "13   -0.104159\n",
       "dtype: float64"
      ]
     },
     "execution_count": 277,
     "metadata": {},
     "output_type": "execute_result"
    }
   ],
   "source": [
    "# your code here\n",
    "# Calculando w com base na equação normal\n",
    "w_nox_PI = linear_regression_PI(X_nox_train, y_nox_train)\n",
    "w_nox_PI"
   ]
  },
  {
   "cell_type": "code",
   "execution_count": 278,
   "metadata": {
    "scrolled": true
   },
   "outputs": [
    {
     "data": {
      "text/plain": [
       "(BIAS       0.064328\n",
       " CRIM       0.016399\n",
       " ZN        -0.085186\n",
       " INDUS      0.188321\n",
       " CHAS       0.053983\n",
       " RM         0.005182\n",
       " AGE        0.195266\n",
       " DIS       -0.148900\n",
       " RAD        0.093968\n",
       " TAX        0.104500\n",
       " PTRATIO   -0.046358\n",
       " B         -0.008447\n",
       " LSTAT      0.099579\n",
       " MEDV       0.013354\n",
       " Name: 81, dtype: float64,\n",
       " array([2.47436468, 1.67533786, 1.17006267, 1.2450071 , 1.07255872,\n",
       "        1.11489875, 1.10580874, 0.97057204, 0.95504305, 0.97041676]))"
      ]
     },
     "execution_count": 278,
     "metadata": {},
     "output_type": "execute_result"
    }
   ],
   "source": [
    "# Calculando w com base no gradiente descendente estocástico\n",
    "w_nox_SGD, sse_history_nox = linear_regression_SGD(X_nox_train, y_nox_train, 0.01, max_iter=10)\n",
    "w_nox_SGD, sse_history_nox"
   ]
  },
  {
   "cell_type": "markdown",
   "metadata": {},
   "source": [
    "make a plot that shows the evolution of the sum of squares error\n",
    "\n",
    "**tip:** make it a callable function that you can reuse for the next task"
   ]
  },
  {
   "cell_type": "code",
   "execution_count": 279,
   "metadata": {},
   "outputs": [
    {
     "data": {
      "image/png": "[encoded data removed]",
      "text/plain": [
       "<Figure size 640x480 with 1 Axes>"
      ]
     },
     "metadata": {},
     "output_type": "display_data"
    }
   ],
   "source": [
    "# your code here\n",
    "# Função para plotar o histórico de SSEs a cada época\n",
    "def plot_sse(sse_history):\n",
    "    # Plotando o gráfico\n",
    "    plt.plot(np.linspace(1, sse_history.size, sse_history.size), sse_history)\n",
    "    # Ajustando os eixos\n",
    "    plt.xlabel(\"Iteration\")\n",
    "    plt.ylabel(\"SSE\")\n",
    "    plt.xticks(np.linspace(1, sse_history.size, sse_history.size))\n",
    "    # Configurando o título\n",
    "    plt.title(\"SSE along the iterations\")\n",
    "    \n",
    "    plt.show()\n",
    "\n",
    "plot_sse(sse_history_nox)"
   ]
  },
  {
   "cell_type": "markdown",
   "metadata": {},
   "source": [
    "Use the learn weights to make predictions for the test set, and evaluate the model using the root mean squared error (remember that the bias is the first column of the weight matrix)\n",
    "- You can use the function you coded for your coursework, but feel free to use sklearn's `mean_squared_error()` here"
   ]
  },
  {
   "cell_type": "code",
   "execution_count": 280,
   "metadata": {},
   "outputs": [
    {
     "data": {
      "text/plain": [
       "0.0052847200580245736"
      ]
     },
     "execution_count": 280,
     "metadata": {},
     "output_type": "execute_result"
    }
   ],
   "source": [
    "# your code here\n",
    "from sklearn.metrics import mean_squared_error\n",
    "\n",
    "# Convertendo o dataframe de dados de teste para uma matriz\n",
    "X_nox_test_array = X_nox_test.values\n",
    "# Calculando as predições com base no w encontrado pela equação normal\n",
    "prediction_nox_PI = X_nox_test_array @ w_nox_PI\n",
    "# Calculando o erro\n",
    "mean_squared_error(y_nox_test, prediction_nox_PI)"
   ]
  },
  {
   "cell_type": "code",
   "execution_count": 281,
   "metadata": {},
   "outputs": [
    {
     "data": {
      "text/plain": [
       "0.007153331158116445"
      ]
     },
     "execution_count": 281,
     "metadata": {},
     "output_type": "execute_result"
    }
   ],
   "source": [
    "# Calculando as predições com base no w encontrado pelo SGD\n",
    "prediction_nox_SGD = X_nox_test @ w_nox_SGD\n",
    "# Calculando o erro\n",
    "mean_squared_error(y_nox_test, prediction_nox_SGD)"
   ]
  },
  {
   "cell_type": "markdown",
   "metadata": {},
   "source": [
    "Repeat the same analysis for predicting `MEDV`"
   ]
  },
  {
   "cell_type": "code",
   "execution_count": 282,
   "metadata": {},
   "outputs": [],
   "source": [
    "# your code here\n",
    "\n",
    "# Salvando o vetor de targets pegando a coluna de MEDV e convertendo-a para float\n",
    "y_medv = housing_clean[\"MEDV\"]\n",
    "y_medv = y_medv.astype(float)\n",
    "# Salvando a matriz de dados excluindo a coluna de MEDV e convertendo os dados para float\n",
    "X_medv = housing_clean.drop(\"MEDV\", axis = 1)\n",
    "X_medv = X_medv.astype(float)\n",
    "\n",
    "# Separando os dados de treino e teste\n",
    "X_medv_train, X_medv_test, y_medv_train, y_medv_test = train_test_split(X_medv, y_medv, train_size = 0.6)"
   ]
  },
  {
   "cell_type": "code",
   "execution_count": 283,
   "metadata": {},
   "outputs": [
    {
     "data": {
      "text/plain": [
       "0     3.186286\n",
       "1    -1.193186\n",
       "2     0.065849\n",
       "3     0.120290\n",
       "4     0.073770\n",
       "5    -0.430014\n",
       "6     1.226054\n",
       "7    -0.067694\n",
       "8    -0.631679\n",
       "9     0.339936\n",
       "10   -0.396873\n",
       "11   -0.469070\n",
       "12    0.325950\n",
       "13   -1.216979\n",
       "dtype: float64"
      ]
     },
     "execution_count": 283,
     "metadata": {},
     "output_type": "execute_result"
    }
   ],
   "source": [
    "# Calculando w com base na equação normal\n",
    "w_medv_PI = linear_regression_PI(X_medv_train, y_medv_train)\n",
    "w_medv_PI"
   ]
  },
  {
   "cell_type": "code",
   "execution_count": 284,
   "metadata": {},
   "outputs": [
    {
     "data": {
      "text/plain": [
       "(BIAS       2.180346\n",
       " CRIM      -0.439544\n",
       " ZN         0.118095\n",
       " INDUS      0.015187\n",
       " CHAS       0.158294\n",
       " NOX        0.095218\n",
       " RM         1.561107\n",
       " AGE        0.162009\n",
       " DIS        0.289628\n",
       " RAD       -0.062674\n",
       " TAX       -0.140987\n",
       " PTRATIO   -0.159966\n",
       " B          0.660149\n",
       " LSTAT     -0.908293\n",
       " Name: 342, dtype: float64,\n",
       " array([12.95825348, 11.96590704,  8.96966604,  7.57109541,  6.79092765,\n",
       "         6.22309788,  5.839906  ,  5.54656916,  5.32121291,  4.97426287]))"
      ]
     },
     "execution_count": 284,
     "metadata": {},
     "output_type": "execute_result"
    }
   ],
   "source": [
    "# Calculando w com base no gradiente descendente estocástico\n",
    "w_medv_SGD, sse_history_medv = linear_regression_SGD(X_medv_train, y_medv_train, 0.04, max_iter=10)\n",
    "w_medv_SGD, sse_history_medv"
   ]
  },
  {
   "cell_type": "code",
   "execution_count": 285,
   "metadata": {},
   "outputs": [
    {
     "data": {
      "image/png": "[encoded data removed]",
      "text/plain": [
       "<Figure size 640x480 with 1 Axes>"
      ]
     },
     "metadata": {},
     "output_type": "display_data"
    }
   ],
   "source": [
    "# Plotando o histórico do erro do SGD para o MEDV\n",
    "plot_sse(sse_history_medv)"
   ]
  },
  {
   "cell_type": "code",
   "execution_count": 286,
   "metadata": {},
   "outputs": [
    {
     "data": {
      "text/plain": [
       "0.04879160607079392"
      ]
     },
     "execution_count": 286,
     "metadata": {},
     "output_type": "execute_result"
    }
   ],
   "source": [
    "# Convertendo o dataframe de dados de teste para uma matriz\n",
    "X_medv_test_array = X_medv_test.values\n",
    "# Calculando as predições com base no w encontrado pela equação normal\n",
    "prediction_medv_PI = X_medv_test_array @ w_medv_PI\n",
    "# Calculando o erro\n",
    "mean_squared_error(y_medv_test, prediction_medv_PI)"
   ]
  },
  {
   "cell_type": "code",
   "execution_count": 287,
   "metadata": {},
   "outputs": [
    {
     "data": {
      "text/plain": [
       "0.0709082153799968"
      ]
     },
     "execution_count": 287,
     "metadata": {},
     "output_type": "execute_result"
    }
   ],
   "source": [
    "# Calculando as predições com base no w encontrado pelo SGD\n",
    "prediction_medv_SGD = X_medv_test @ w_medv_SGD\n",
    "# Calculando o erro\n",
    "mean_squared_error(y_medv_test, prediction_medv_SGD)"
   ]
  },
  {
   "cell_type": "markdown",
   "metadata": {},
   "source": [
    "## Part 3 - Polynomial basis function\n",
    "\n",
    "* Generate a 2D dataset using a sine wave (10 values for `x` in the interval $[0, 10]$), perturbed by a small gaussian noise. *Note:* To generate the same data as I generated, use $y = 4sin(x) + \\epsilon$ by setting the seed to 0\n",
    "* The Polynomial basis function that you will use is of the following form:\n",
    "    - $\\phi_i(x)=x^i$\n",
    "* You will do this to create models of degrees 2, 4, and 9.\n",
    "    - Transform your original `x` into the design matrix $\\Phi$ by applying the basis functions to each element of `x`\n",
    "    - For degree 2: $i\\in[0,1,2]$, for degree 4: $i\\in[0,1,2,3,4]$, and for degree 9: $i\\in[0,1,2,...,9]$\n",
    "    - *This means that for each Degree you will create a different $\\Phi$ and fit a different regression model.*\n",
    "\n",
    "* Plot the data and the prediction for each degree.\n",
    "* Which degree of polynomial works better to model this scenario? \n",
    "\n",
    "Example: Let's say that $$x=\\begin{bmatrix} x_1=2 \\\\ x_2=3 \\\\ x_3=1 \\end{bmatrix}$$\n",
    "Then for Degree 2 I will use the following basis functions: $\\phi_0(x_j)=x_j^0, \\phi_1(x_j)=x_j^1, \\phi_2(x_j)=x_j^2$.\n",
    "\n",
    "In this case, $\\Phi$ will look like: \n",
    "$$\\Phi=\\begin{bmatrix} \\phi_0(x_1)=x_1^0 & \\phi_1(x_1)=x_1^1 & \\phi_2(x_1)=x_1^2 \\\\ \\phi_0(x_2)=x_2^0 & \\phi_1(x_2)=x_2^1 & \\phi_2(x_2)=x_2^2 \\\\ \\phi_0(x_3)=x_3^0 & \\phi_1(x_3)=x_3^1 & \\phi_2(x_3)=x_3^2 \\end{bmatrix}$$\n",
    "\n",
    "Finally:\n",
    "$$\\Phi=\\begin{bmatrix} 1 & 2 & 4 \\\\ 1 & 3 & 9 \\\\ 1 & 1 & 1 \\end{bmatrix}$$\n",
    "\n",
    "__*Important:* You have to code this exercise yourself.__\n",
    "\n"
   ]
  },
  {
   "cell_type": "code",
   "execution_count": 288,
   "metadata": {},
   "outputs": [],
   "source": [
    "# your code here"
   ]
  },
  {
   "cell_type": "markdown",
   "metadata": {},
   "source": [
    "## Part 4 - Polynomial basis function\n",
    "\n",
    "For this part you will replicate the previous part but using the existing functions from sklearn!\n",
    "\n",
    "* Use the same data as the previous part.\n",
    "* Use sklearn's Linear Regression estimator together with a Polynomial transform to make a Linear regression with a polynomial basis.\n",
    "\n",
    "*Note:* To generate the same data as I generated, use $y = 4sin(x) + \\epsilon$ by setting the seed to 0"
   ]
  },
  {
   "cell_type": "code",
   "execution_count": 289,
   "metadata": {},
   "outputs": [],
   "source": [
    "# your code here"
   ]
  }
 ],
 "metadata": {
  "kernelspec": {
   "display_name": "Python 3 (ipykernel)",
   "language": "python",
   "name": "python3"
  },
  "language_info": {
   "codemirror_mode": {
    "name": "ipython",
    "version": 3
   },
   "file_extension": ".py",
   "mimetype": "text/x-python",
   "name": "python",
   "nbconvert_exporter": "python",
   "pygments_lexer": "ipython3",
   "version": "3.10.10"
  }
 },
 "nbformat": 4,
 "nbformat_minor": 4
}
